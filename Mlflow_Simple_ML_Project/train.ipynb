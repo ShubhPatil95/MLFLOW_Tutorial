{
 "cells": [
  {
   "cell_type": "markdown",
   "id": "319cd55c",
   "metadata": {},
   "source": [
    "### Import depedencies"
   ]
  },
  {
   "cell_type": "code",
   "execution_count": 1,
   "id": "686e93ed",
   "metadata": {},
   "outputs": [],
   "source": [
    "from sklearn.linear_model import ElasticNet\n",
    "import numpy as np\n",
    "from sklearn.metrics import r2_score,mean_squared_error,mean_absolute_error\n",
    "import mlflow\n",
    "import mlflow.sklearn"
   ]
  },
  {
   "cell_type": "markdown",
   "id": "bfa2264c",
   "metadata": {},
   "source": [
    "### Create dataset"
   ]
  },
  {
   "cell_type": "code",
   "execution_count": 2,
   "id": "7d15e7a2",
   "metadata": {},
   "outputs": [],
   "source": [
    "x=np.array([1,2,3,4,5,6]).reshape(-1,1)\n",
    "y=np.array([11,22,33,55,44,66])"
   ]
  },
  {
   "cell_type": "markdown",
   "id": "0b374e05",
   "metadata": {},
   "source": [
    "### Create a list of hyperparamters"
   ]
  },
  {
   "cell_type": "code",
   "execution_count": 3,
   "id": "1bfa2f31",
   "metadata": {},
   "outputs": [],
   "source": [
    "alphas=[0.5,1,1.5]\n",
    "l1_ratios=[0.5,1]"
   ]
  },
  {
   "cell_type": "markdown",
   "id": "344dd590",
   "metadata": {},
   "source": [
    "### Run a model with all combination of hyperparamters and record all metrics, paramters and model"
   ]
  },
  {
   "cell_type": "code",
   "execution_count": null,
   "id": "10113fe9",
   "metadata": {},
   "outputs": [],
   "source": [
    "for alpha in alphas:\n",
    "    for l1_ratio in l1_ratios:\n",
    "        with mlflow.start_run():\n",
    "            model=ElasticNet(alpha=alpha, l1_ratio=l1_ratio, random_state=42)\n",
    "            model.fit(x, y)\n",
    "            y_pred = model.predict(x)\n",
    "\n",
    "            # Metrics\n",
    "            r2=r2_score(y,y_pred)\n",
    "            MSE=mean_squared_error(y,y_pred)\n",
    "            MAE=mean_absolute_error(y,y_pred)\n",
    "\n",
    "            #logging params\n",
    "            mlflow.log_param(\"alpha\", alpha)\n",
    "            mlflow.log_param(\"l1_ratio\", l1_ratio)\n",
    "\n",
    "            # logging metrics\n",
    "            mlflow.log_metric(\"MSE\", MSE)\n",
    "            mlflow.log_metric(\"MAE\", MAE)\n",
    "            mlflow.log_metric(\"r2\", r2)\n",
    "\n",
    "            # mlflow model logging \n",
    "            mlflow.sklearn.log_model(model, \"model\")"
   ]
  },
  {
   "cell_type": "markdown",
   "id": "ca47c41f",
   "metadata": {},
   "source": [
    "### Run a below command to generated UI URL"
   ]
  },
  {
   "cell_type": "code",
   "execution_count": null,
   "id": "941a0234",
   "metadata": {},
   "outputs": [],
   "source": [
    "mlflow ui"
   ]
  }
 ],
 "metadata": {
  "kernelspec": {
   "display_name": "Python 3 (ipykernel)",
   "language": "python",
   "name": "python3"
  },
  "language_info": {
   "codemirror_mode": {
    "name": "ipython",
    "version": 3
   },
   "file_extension": ".py",
   "mimetype": "text/x-python",
   "name": "python",
   "nbconvert_exporter": "python",
   "pygments_lexer": "ipython3",
   "version": "3.8.8"
  }
 },
 "nbformat": 4,
 "nbformat_minor": 5
}
